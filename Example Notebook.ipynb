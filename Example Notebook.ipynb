{
 "cells": [
  {
   "cell_type": "code",
   "execution_count": 1,
   "id": "2a93d48d",
   "metadata": {},
   "outputs": [],
   "source": [
    "import numpy as np\n",
    "\n",
    "import sys, os\n",
    "# sys.path.append('./pyFM/') # UNCOMMENT THIS LINE IF YOU HAVE NOT INSTALLED pyFM (pip install pyfmaps)\n",
    "sys.path.append('./VisualizationTools/')  # This is for visualization purposes only, not necessary to run the algorithms\n",
    "\n",
    "import VisualizationTools as plu\n",
    "import pyFM\n",
    "\n",
    "from pyFM.mesh import TriMesh\n",
    "import pyFM.spectral as spectral\n",
    "\n",
    "import DiscreteOpt_legacy"
   ]
  },
  {
   "cell_type": "code",
   "execution_count": 2,
   "id": "d396f52a",
   "metadata": {},
   "outputs": [],
   "source": [
    "def generate_init_map(mesh1, mesh2, k):\n",
    "    \n",
    "    FM_12 = spectral.mesh_p2p_to_FM(np.arange(mesh2.n_vertices), mesh1, mesh2, dims=k)\n",
    "    p2p_21_init = spectral.mesh_FM_to_p2p(FM_12, mesh1, mesh2, n_jobs=-1)\n",
    "    return p2p_21_init"
   ]
  },
  {
   "cell_type": "markdown",
   "id": "d5ca265d",
   "metadata": {},
   "source": [
    "# LOAD DATA "
   ]
  },
  {
   "cell_type": "code",
   "execution_count": 3,
   "id": "302db9e9",
   "metadata": {
    "scrolled": true
   },
   "outputs": [],
   "source": [
    "mesh1 = TriMesh(\"data/tr_reg_000.off\", area_normalize=True, center=True).process(intrinsic=True)\n",
    "mesh2 = TriMesh(\"data/tr_reg_024.off\", area_normalize=True, center=True).process(intrinsic=True)"
   ]
  },
  {
   "cell_type": "markdown",
   "id": "d6900a05",
   "metadata": {},
   "source": [
    "# GENERATE INITIAL MAP "
   ]
  },
  {
   "cell_type": "code",
   "execution_count": 4,
   "id": "9e070c46",
   "metadata": {},
   "outputs": [],
   "source": [
    "p2p_12_init = generate_init_map(mesh2, mesh1, 10)\n",
    "p2p_21_init = generate_init_map(mesh1, mesh2, 10)"
   ]
  },
  {
   "cell_type": "markdown",
   "id": "9d4272ee",
   "metadata": {},
   "source": [
    "# FIT MODEL "
   ]
  },
  {
   "cell_type": "code",
   "execution_count": 6,
   "id": "ee2173cb",
   "metadata": {},
   "outputs": [],
   "source": [
    "model = DiscreteOpt_legacy.SmoothDiscreteOptimization(mesh1, mesh2)\n",
    "model._set_params(\"rhm\")  # Select \"rhm\" or \"exact\" usually. You can try \"arap\" and \"nicp\" also"
   ]
  },
  {
   "cell_type": "code",
   "execution_count": 14,
   "id": "6e8d9559",
   "metadata": {},
   "outputs": [
    {
     "data": {
      "text/plain": [
       "{'k_init': 10,\n",
       " 'nit': 10,\n",
       " 'step': 5,\n",
       " 'n_inner': 5,\n",
       " 'k_max': None,\n",
       " 'log_space': True,\n",
       " 'sm_weight_range': [0.1, 1.0]}"
      ]
     },
     "execution_count": 14,
     "metadata": {},
     "output_type": "execute_result"
    }
   ],
   "source": [
    "model.opt_params"
   ]
  },
  {
   "cell_type": "code",
   "execution_count": 7,
   "id": "1c9105a1",
   "metadata": {},
   "outputs": [
    {
     "data": {
      "application/vnd.jupyter.widget-view+json": {
       "model_id": "301119967b9842c394778c2e7453f956",
       "version_major": 2,
       "version_minor": 0
      },
      "text/plain": [
       "  0%|          | 0/11 [00:00<?, ?it/s]"
      ]
     },
     "metadata": {},
     "output_type": "display_data"
    }
   ],
   "source": [
    "model.fit(p2p_21=p2p_21_init, p2p_12=p2p_12_init, n_jobs=-1, verbose=True)"
   ]
  },
  {
   "cell_type": "code",
   "execution_count": 8,
   "id": "407dbf50",
   "metadata": {},
   "outputs": [
    {
     "name": "stderr",
     "output_type": "stream",
     "text": [
      "/Users/robinmagnet/opt/miniconda3/envs/py39/lib/python3.9/site-packages/jupyter_client/session.py:718: UserWarning: Message serialization failed with:\n",
      "Out of range float values are not JSON compliant\n",
      "Supporting this message is deprecated in jupyter-client 7, please make sure your message is JSON-compliant\n",
      "  content = self.pack(content)\n"
     ]
    },
    {
     "data": {
      "application/vnd.jupyter.widget-view+json": {
       "model_id": "6e458b1bc3254491b533a3a1ee0b619a",
       "version_major": 2,
       "version_minor": 0
      },
      "text/plain": [
       "HBox(children=(Output(), Output()))"
      ]
     },
     "metadata": {},
     "output_type": "display_data"
    },
    {
     "data": {
      "application/vnd.jupyter.widget-view+json": {
       "model_id": "f9d91a1fdfad495da20617224264522f",
       "version_major": 2,
       "version_minor": 0
      },
      "text/plain": [
       "HBox(children=(Output(), Output()))"
      ]
     },
     "metadata": {},
     "output_type": "display_data"
    }
   ],
   "source": [
    "plu.plot_p2p(mesh1, mesh2, model.p2p_21, pretty=True)"
   ]
  },
  {
   "cell_type": "code",
   "execution_count": 15,
   "id": "7a6ac258",
   "metadata": {},
   "outputs": [
    {
     "name": "stderr",
     "output_type": "stream",
     "text": [
      "/Users/robinmagnet/opt/miniconda3/envs/py39/lib/python3.9/site-packages/jupyter_client/session.py:718: UserWarning: Message serialization failed with:\n",
      "Out of range float values are not JSON compliant\n",
      "Supporting this message is deprecated in jupyter-client 7, please make sure your message is JSON-compliant\n",
      "  content = self.pack(content)\n"
     ]
    },
    {
     "data": {
      "application/vnd.jupyter.widget-view+json": {
       "model_id": "4c0a164667134605b13c7469c39a3760",
       "version_major": 2,
       "version_minor": 0
      },
      "text/plain": [
       "Renderer(camera=PerspectiveCamera(children=(DirectionalLight(color='white', intensity=0.6, position=(-0.021894…"
      ]
     },
     "metadata": {},
     "output_type": "display_data"
    },
    {
     "data": {
      "text/plain": [
       "<meshplot.Viewer.Viewer at 0x7f79837793a0>"
      ]
     },
     "execution_count": 15,
     "metadata": {},
     "output_type": "execute_result"
    }
   ],
   "source": [
    "plu.plot(TriMesh(mesh1.vertices[model.p2p_21], mesh2.faces))"
   ]
  }
 ],
 "metadata": {
  "kernelspec": {
   "display_name": "Python 3 (ipykernel)",
   "language": "python",
   "name": "python3"
  },
  "language_info": {
   "codemirror_mode": {
    "name": "ipython",
    "version": 3
   },
   "file_extension": ".py",
   "mimetype": "text/x-python",
   "name": "python",
   "nbconvert_exporter": "python",
   "pygments_lexer": "ipython3",
   "version": "3.9.13"
  }
 },
 "nbformat": 4,
 "nbformat_minor": 5
}
