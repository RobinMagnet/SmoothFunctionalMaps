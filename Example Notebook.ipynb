{
 "cells": [
  {
   "cell_type": "code",
   "execution_count": null,
   "id": "2a93d48d",
   "metadata": {},
   "outputs": [],
   "source": [
    "\n",
    "import sys, os\n",
    "sys.path.append('./pyFM/') # UNCOMMENT THIS LINE IF YOU HAVE NOT INSTALLED pyFM (pip install pyfmaps)\n",
    "sys.path.append('./VisualizationTools/')  # This is for visualization purposes only, not necessary to run the algorithms\n",
    "\n",
    "import numpy as np\n",
    "\n",
    "\n",
    "\n",
    "import VisualizationTools as plu\n",
    "import pyFM\n",
    "\n",
    "from pyFM.mesh import TriMesh\n",
    "import pyFM.spectral as spectral\n",
    "\n",
    "import DiscreteOpt"
   ]
  },
  {
   "cell_type": "code",
   "execution_count": null,
   "id": "d396f52a",
   "metadata": {},
   "outputs": [],
   "source": [
    "def generate_init_map(mesh1, mesh2, k):\n",
    "    \"\"\"\n",
    "    Simple function which generates an initial map between two meshes using a small sized functional map.\n",
    "    This uses the fast the two meshes are in one-to-one correspondence with the same vertex order.\n",
    "\n",
    "    You should replace this with your own initial map generation method, typically using nearest neighbor or landmarks.\n",
    "    \"\"\"\n",
    "    FM_12 = spectral.mesh_p2p_to_FM(np.arange(mesh2.n_vertices), mesh1, mesh2, dims=k)\n",
    "    p2p_21_init = spectral.mesh_FM_to_p2p(FM_12, mesh1, mesh2, n_jobs=-1)\n",
    "    return p2p_21_init"
   ]
  },
  {
   "cell_type": "markdown",
   "id": "d5ca265d",
   "metadata": {},
   "source": [
    "# 1 - LOAD DATA "
   ]
  },
  {
   "cell_type": "markdown",
   "id": "bae0499d",
   "metadata": {},
   "source": [
    "We load, center, area-normalize the data, and compute the eigendecomposition of the laplacian on each shape."
   ]
  },
  {
   "cell_type": "code",
   "execution_count": null,
   "id": "302db9e9",
   "metadata": {
    "scrolled": true
   },
   "outputs": [],
   "source": [
    "mesh1 = TriMesh(\"data/tr_reg_000.off\", area_normalize=True, center=True).process(intrinsic=True)\n",
    "mesh2 = TriMesh(\"data/tr_reg_024.off\", area_normalize=True, center=True).process(intrinsic=True)"
   ]
  },
  {
   "cell_type": "markdown",
   "id": "d6900a05",
   "metadata": {},
   "source": [
    "# 2 - GENERATE INITIAL MAP "
   ]
  },
  {
   "cell_type": "code",
   "execution_count": null,
   "id": "9e070c46",
   "metadata": {},
   "outputs": [],
   "source": [
    "p2p_12_init = generate_init_map(mesh2, mesh1, 10)\n",
    "p2p_21_init = generate_init_map(mesh1, mesh2, 10)"
   ]
  },
  {
   "cell_type": "markdown",
   "id": "9d4272ee",
   "metadata": {},
   "source": [
    "# 3 - Discrete Optimization"
   ]
  },
  {
   "cell_type": "markdown",
   "id": "bb3cccca",
   "metadata": {},
   "source": [
    "We can simply generate the model to compute maps between the two."
   ]
  },
  {
   "cell_type": "code",
   "execution_count": null,
   "id": "ee2173cb",
   "metadata": {},
   "outputs": [],
   "source": [
    "model = DiscreteOpt.DiscreteOptimization(mesh1, mesh2)"
   ]
  },
  {
   "cell_type": "markdown",
   "id": "353f01ad",
   "metadata": {},
   "source": [
    "## 3.1 Parameters"
   ]
  },
  {
   "cell_type": "markdown",
   "id": "4baf4c44",
   "metadata": {},
   "source": [
    "Since the number of parameters can be overwhelming, there are multiple ways to define parameters for the model:\n",
    "  1. by using a pre-existing version of the parameters in [DiscreteOpt/utils/params](./DiscreteOpt/utils/params/). These are yaml files which contains all the informations.   \n",
    "  2. by providing the path to a yaml file with the parameters\n",
    "  3. by providing dictionaries of parameters equivalent to a yaml file\n",
    "\n",
    "\n",
    "There are also some functions to simply use an our pre-existing version of parameters and add changes.\n",
    "\n",
    "The parameters are divided in two subset of parameters:\n",
    "  - `sp_params` which define which spectral energies are to be minimized\n",
    "  - `opt_params` which define optimization parameters such as number of iteration, upsampling steps, ...\n",
    "\n",
    "Check teh yaml files for more info"
   ]
  },
  {
   "cell_type": "code",
   "execution_count": null,
   "id": "34fbaf86",
   "metadata": {},
   "outputs": [],
   "source": [
    "# Version 1\n",
    "model.set_params(\"zoomout\")  # Select \"zoomout\" or \"bijective_zoomout\"\n",
    "\n",
    "# Version 2\n",
    "model.set_params(params=\"./DiscreteOpt/utils/params/zoomout.yml\")\n",
    "\n",
    "# Version 3\n",
    "# Lets generate sp_params and opt_params from existing things\n",
    "from DiscreteOpt.utils.params_utils import generate_sp_params_from_template, get_default_opt_params\n",
    "\n",
    "sp_params = generate_sp_params_from_template('bijective_zoomout', conf_weight=1e-1)  # Using parameters from bijective zoomout, but adding conformal energy with weight 1e-1\n",
    "opt_params = get_default_opt_params()  # Let‘s get default optimization parameters\n",
    "model.set_params(sp_params=sp_params, opt_params=opt_params)\n",
    "\n",
    "# Let's see the parameters\n",
    "print(model.sp_params, model.opt_params)"
   ]
  },
  {
   "cell_type": "markdown",
   "id": "4de70c20",
   "metadata": {},
   "source": [
    "## 3.2 - Fitting the model"
   ]
  },
  {
   "cell_type": "code",
   "execution_count": null,
   "id": "47a877aa",
   "metadata": {},
   "outputs": [],
   "source": [
    "model.set_params(\"bijective_zoomout\")  # Select \"zoomout\" or \"bijective_zoomout\"\n",
    "\n",
    "model.solve_from_p2p(p2p_21=p2p_21_init, p2p_12=p2p_12_init, n_jobs=20, verbose=True)"
   ]
  },
  {
   "cell_type": "markdown",
   "id": "f048fa69",
   "metadata": {},
   "source": [
    "## 3.3 - Obtaining the pointwise map"
   ]
  },
  {
   "cell_type": "markdown",
   "id": "ff5596a0",
   "metadata": {},
   "source": [
    "The model works but seems to inverse front and back in the middle of the shape."
   ]
  },
  {
   "cell_type": "code",
   "execution_count": null,
   "id": "07428718",
   "metadata": {},
   "outputs": [],
   "source": [
    "p2p_21 = model.p2p_21"
   ]
  },
  {
   "cell_type": "code",
   "execution_count": null,
   "id": "47a786df",
   "metadata": {},
   "outputs": [],
   "source": [
    "plu.plot_p2p(mesh1, mesh2, p2p_21, pretty=True)"
   ]
  },
  {
   "cell_type": "code",
   "execution_count": null,
   "id": "a247168a",
   "metadata": {},
   "outputs": [],
   "source": []
  },
  {
   "cell_type": "markdown",
   "metadata": {},
   "source": [
    "# 4 - Smooth Discrete Optimization"
   ]
  },
  {
   "cell_type": "code",
   "execution_count": null,
   "id": "0f96d5bc",
   "metadata": {},
   "outputs": [],
   "source": [
    "model = DiscreteOpt.SmoothDiscreteOptimization(mesh1, mesh2)"
   ]
  },
  {
   "cell_type": "markdown",
   "id": "f9b5f4b0",
   "metadata": {},
   "source": [
    "## 4.1 Parameters"
   ]
  },
  {
   "cell_type": "markdown",
   "id": "80c181b9",
   "metadata": {},
   "source": [
    "Since the number of parameters can be overwhelming, there are multiple ways to define parameters for the model:\n",
    "  1. by using a pre-existing version of the parameters in [DiscreteOpt/utils/params](./DiscreteOpt/utils/params/). These are yaml files which contains all the informations.   \n",
    "  2. by providing the path to a yaml file with the parameters\n",
    "  3. by providing dictionaries of parameters equivalent to a yaml file\n",
    "\n",
    "\n",
    "There are also some functions to simply use an our pre-existing version of parameters and add changes.\n",
    "\n",
    "The parameters are divided in **three** subsets of parameters:\n",
    "  - `sp_params` which define which spectral energies are to be minimized\n",
    "  - `sm_params` which define which smoothness energies are to be minimized\n",
    "  - `opt_params` which define optimization parameters such as number of iteration, upsampling steps, ...\n",
    "\n",
    "Check teh yaml files for more info"
   ]
  },
  {
   "cell_type": "code",
   "execution_count": null,
   "id": "ecd4a6d7",
   "metadata": {},
   "outputs": [],
   "source": [
    "model.set_params(\"zoomout_rhm\")  # Select \"zoomout_rhm\" or \"zoomout_dirichlet\" usually. You can try \"zoomout_arap\" and \"zoomout_nicp\" also\n",
    "model.solve_from_p2p(p2p_21=p2p_21_init, p2p_12=p2p_12_init, n_jobs=20, verbose=True)"
   ]
  },
  {
   "cell_type": "markdown",
   "id": "a8c75da5",
   "metadata": {},
   "source": [
    "## 3.3 - Obtaining the pointwise map"
   ]
  },
  {
   "cell_type": "markdown",
   "id": "2c92cefe",
   "metadata": {},
   "source": [
    "Notice that the inversion disappeared"
   ]
  },
  {
   "cell_type": "code",
   "execution_count": null,
   "id": "079b16fd",
   "metadata": {},
   "outputs": [],
   "source": [
    "p2p_21 = model.p2p_21"
   ]
  },
  {
   "cell_type": "code",
   "execution_count": null,
   "id": "2f50f7e5",
   "metadata": {},
   "outputs": [],
   "source": [
    "plu.plot_p2p(mesh1, mesh2, p2p_21, pretty=True)"
   ]
  }
 ],
 "metadata": {
  "kernelspec": {
   "display_name": "Python 3 (ipykernel)",
   "language": "python",
   "name": "python3"
  },
  "language_info": {
   "codemirror_mode": {
    "name": "ipython",
    "version": 3
   },
   "file_extension": ".py",
   "mimetype": "text/x-python",
   "name": "python",
   "nbconvert_exporter": "python",
   "pygments_lexer": "ipython3",
   "version": "3.9.13"
  }
 },
 "nbformat": 4,
 "nbformat_minor": 5
}
