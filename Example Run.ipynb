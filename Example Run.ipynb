{
 "cells": [
  {
   "cell_type": "code",
   "execution_count": null,
   "id": "2a93d48d",
   "metadata": {},
   "outputs": [],
   "source": [
    "import numpy as np\n",
    "\n",
    "import VisualizationTools as plu\n",
    "import pyFM\n",
    "\n",
    "from pyFM.mesh import TriMesh\n",
    "import pyFM.spectral as spectral\n",
    "\n",
    "import DiscreteOpt"
   ]
  },
  {
   "cell_type": "code",
   "execution_count": null,
   "id": "d396f52a",
   "metadata": {},
   "outputs": [],
   "source": [
    "def generate_init_map(mesh1, mesh2, k):\n",
    "    \n",
    "    FM_12 = spectral.mesh_p2p_to_FM(np.arange(mesh2.n_vertices), mesh1, mesh2, dims=k)\n",
    "    p2p_21_init = spectral.mesh_FM_to_p2p(FM_12, mesh1, mesh2, n_jobs=-1)\n",
    "    return p2p_21_init"
   ]
  },
  {
   "cell_type": "markdown",
   "id": "d5ca265d",
   "metadata": {},
   "source": [
    "# LOAD DATA "
   ]
  },
  {
   "cell_type": "code",
   "execution_count": null,
   "id": "302db9e9",
   "metadata": {
    "scrolled": true
   },
   "outputs": [],
   "source": [
    "mesh1 = TriMesh(\"data/tr_reg_000.off\", area_normalize=True, center=True).process(intrinsic=True)\n",
    "mesh2 = TriMesh(\"data/tr_reg_024.off\", area_normalize=True, center=True).process(intrinsic=True)"
   ]
  },
  {
   "cell_type": "markdown",
   "id": "d6900a05",
   "metadata": {},
   "source": [
    "# GENERATE INITIAL MAP "
   ]
  },
  {
   "cell_type": "code",
   "execution_count": null,
   "id": "9e070c46",
   "metadata": {},
   "outputs": [],
   "source": [
    "p2p_12_init = generate_init_map(mesh2, mesh1, 10)\n",
    "p2p_21_init = generate_init_map(mesh1, mesh2, 10)"
   ]
  },
  {
   "cell_type": "markdown",
   "id": "9d4272ee",
   "metadata": {},
   "source": [
    "# FIT MODEL "
   ]
  },
  {
   "cell_type": "code",
   "execution_count": null,
   "id": "ee2173cb",
   "metadata": {},
   "outputs": [],
   "source": [
    "model = DiscreteOpt.SmoothDiscreteOptimization(mesh1, mesh2)\n",
    "model._set_params(\"rhm\")  # Select \"rhm\" or \"exact\" usually. You can try \"arap\" and \"nicp\" also"
   ]
  },
  {
   "cell_type": "code",
   "execution_count": null,
   "id": "1c9105a1",
   "metadata": {},
   "outputs": [],
   "source": [
    "model.fit(p2p_21=p2p_21_init, p2p_12=p2p_12_init, n_jobs=-1, verbose=True)"
   ]
  },
  {
   "cell_type": "code",
   "execution_count": null,
   "id": "407dbf50",
   "metadata": {},
   "outputs": [],
   "source": [
    "plu.plot_p2p(mesh1, mesh2, model.p2p_21, pretty=True)"
   ]
  }
 ],
 "metadata": {
  "kernelspec": {
   "display_name": "Python 3 (ipykernel)",
   "language": "python",
   "name": "python3"
  },
  "language_info": {
   "codemirror_mode": {
    "name": "ipython",
    "version": 3
   },
   "file_extension": ".py",
   "mimetype": "text/x-python",
   "name": "python",
   "nbconvert_exporter": "python",
   "pygments_lexer": "ipython3",
   "version": "3.9.13"
  }
 },
 "nbformat": 4,
 "nbformat_minor": 5
}
